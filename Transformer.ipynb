{
  "nbformat": 4,
  "nbformat_minor": 0,
  "metadata": {
    "colab": {
      "provenance": [],
      "mount_file_id": "13xUoaCajQGPe23BxX1ITRt00Dh18tJy1",
      "authorship_tag": "ABX9TyPkmITveLiBtHmZrlEHmqcD",
      "include_colab_link": true
    },
    "kernelspec": {
      "name": "python3",
      "display_name": "Python 3"
    },
    "language_info": {
      "name": "python"
    },
    "accelerator": "GPU",
    "gpuClass": "standard"
  },
  "cells": [
    {
      "cell_type": "markdown",
      "metadata": {
        "id": "view-in-github",
        "colab_type": "text"
      },
      "source": [
        "<a href=\"https://colab.research.google.com/github/yugonojima/NLP100Exercise-Chapter10-Transformer/blob/main/Transformer.ipynb\" target=\"_parent\"><img src=\"https://colab.research.google.com/assets/colab-badge.svg\" alt=\"Open In Colab\"/></a>"
      ]
    },
    {
      "cell_type": "code",
      "source": [
        "!pip install fugashi[unidic-lite] sentencepiece datasets transformers sacrebleu"
      ],
      "metadata": {
        "id": "0RUwVI8nyf0m"
      },
      "execution_count": null,
      "outputs": []
    },
    {
      "cell_type": "code",
      "execution_count": null,
      "metadata": {
        "id": "MXAnUkO-tCt-"
      },
      "outputs": [],
      "source": [
        "%cd /content/drive/MyDrive/NLP100本ノック/Chapter10/"
      ]
    },
    {
      "cell_type": "code",
      "source": [
        "from datasets import Dataset, DatasetDict"
      ],
      "metadata": {
        "id": "OkY8NTHSZkEW"
      },
      "execution_count": 3,
      "outputs": []
    },
    {
      "cell_type": "code",
      "source": [
        "train_en_path = './tok/kyoto-train.en'\n",
        "train_ja_path = './tok/kyoto-train.ja'\n",
        "train_cln_en_path = './tok/kyoto-train.cln.en'\n",
        "train_cln_ja_path = './tok/kyoto-train.cln.ja'\n",
        "tune_en_path = './tok/kyoto-tune.en'\n",
        "tune_ja_path = './tok/kyoto-tune.ja'\n",
        "dev_en_path = './tok/kyoto-dev.en'\n",
        "dev_ja_path = './tok/kyoto-dev.ja'\n",
        "test_en_path = './tok/kyoto-test.en'\n",
        "test_ja_path = './tok/kyoto-test.ja'\n",
        "\n",
        "seed = 0"
      ],
      "metadata": {
        "id": "2nyt9RiwwMxD"
      },
      "execution_count": 4,
      "outputs": []
    },
    {
      "cell_type": "markdown",
      "source": [
        "#Creating the dataset"
      ],
      "metadata": {
        "id": "qHseivOBe4NH"
      }
    },
    {
      "cell_type": "code",
      "source": [
        "class NMTDataset:\n",
        "    def __init__(self, problem_type='ja-en'):\n",
        "        self.problem_type = 'ja_en'\n",
        "        self.inp_lang_tokenizer = None\n",
        "        self.targ_lang_tokenizer = None\n",
        "\n",
        "    def inp_Preprocess(self, text):\n",
        "        text = text.replace('\\n', '')\n",
        "        text = list(reversed(text.split()))\n",
        "        text = ' '.join(text)\n",
        "        text = \"<start> \"+text+\" <end>\"\n",
        "        return text\n",
        "    \n",
        "    def targ_Preprocess(self, text):\n",
        "        text = text.replace('\\n', '')\n",
        "        # text = text.lower()\n",
        "        text = '<start> '+text+' <end>'\n",
        "        return text\n",
        "\n",
        "\n",
        "\n",
        "\n",
        "    def Read(self, path, num_examples=None, inp = False):\n",
        "        new_lines = []\n",
        "        with open(path, 'r') as f:\n",
        "            lines = f.readlines()\n",
        "        for line in lines:\n",
        "            if inp:\n",
        "                new_lines.append(self.inp_Preprocess(line))\n",
        "            else:\n",
        "                new_lines.append(self.targ_Preprocess(line))\n",
        "        if num_examples == None:\n",
        "            return new_lines\n",
        "        else:\n",
        "            return new_lines[:num_examples]\n",
        "\n",
        "    \n",
        "    def make_dataset(self, inp_path, targ_path):\n",
        "        inp_texts = self.Read(inp_path)\n",
        "        targ_texts = self.Read(targ_path)\n",
        "        translation_list = []\n",
        "        for ja_text, en_text in zip(inp_texts, targ_texts):\n",
        "            translation_list.append({'ja':ja_text, 'en':en_text})\n",
        "\n",
        "        translation_dict = {'translation':translation_list}\n",
        "        translation_dataset = Dataset.from_dict(translation_dict)\n",
        "\n",
        "        return translation_dataset"
      ],
      "metadata": {
        "id": "81nCx9KGD5fH"
      },
      "execution_count": 5,
      "outputs": []
    },
    {
      "cell_type": "code",
      "source": [
        "dataset = NMTDataset()\n",
        "train_dataset = dataset.make_dataset(train_cln_ja_path,train_cln_en_path)\n",
        "validation_dataset = dataset.make_dataset(tune_ja_path,tune_en_path)\n",
        "test_dataset = dataset.make_dataset(dev_ja_path,dev_en_path)\n",
        "\n",
        "raw_datasets = DatasetDict({\"train\":train_dataset,\n",
        "             \"validation\":validation_dataset,\n",
        "             \"test\":test_dataset})"
      ],
      "metadata": {
        "id": "DJI6_siUYZyi"
      },
      "execution_count": 6,
      "outputs": []
    },
    {
      "cell_type": "code",
      "source": [
        "import datasets\n",
        "import random\n",
        "import pandas as pd\n",
        "from IPython.display import display, HTML\n",
        "\n",
        "def show_random_elements(dataset, num_examples=5):\n",
        "    assert num_examples <= len(dataset), \"Can't pick more elements than there are in the dataset.\"\n",
        "    picks = []\n",
        "    for _ in range(num_examples):\n",
        "        pick = random.randint(0, len(dataset)-1)\n",
        "        while pick in picks:\n",
        "            pick = random.randint(0, len(dataset)-1)\n",
        "        picks.append(pick)\n",
        "    \n",
        "    df = pd.DataFrame(dataset[picks])\n",
        "    for column, typ in dataset.features.items():\n",
        "        if isinstance(typ, datasets.ClassLabel):\n",
        "            df[column] = df[column].transform(lambda i: typ.names[i])\n",
        "    display(HTML(df.to_html()))"
      ],
      "metadata": {
        "id": "OBIqWc0Ob8tV"
      },
      "execution_count": null,
      "outputs": []
    },
    {
      "cell_type": "code",
      "source": [
        "show_random_elements(raw_datasets[\"train\"])"
      ],
      "metadata": {
        "colab": {
          "base_uri": "https://localhost:8080/",
          "height": 224
        },
        "id": "EtqFzqM0b_8o",
        "outputId": "f380dffb-4d97-4af5-b563-beb37f014a62"
      },
      "execution_count": null,
      "outputs": [
        {
          "output_type": "display_data",
          "data": {
            "text/plain": [
              "<IPython.core.display.HTML object>"
            ],
            "text/html": [
              "<table border=\"1\" class=\"dataframe\">\n",
              "  <thead>\n",
              "    <tr style=\"text-align: right;\">\n",
              "      <th></th>\n",
              "      <th>translation</th>\n",
              "    </tr>\n",
              "  </thead>\n",
              "  <tbody>\n",
              "    <tr>\n",
              "      <th>0</th>\n",
              "      <td>{'en': '&lt;start&gt; Please think about it . ' &lt;end&gt;', 'ja': '&lt;start&gt; 「 ぜひ 思いとどま り くださ い 。 」 &lt;end&gt;'}</td>\n",
              "    </tr>\n",
              "    <tr>\n",
              "      <th>1</th>\n",
              "      <td>{'en': '&lt;start&gt; 1951 : Kyoto Prefectural University Women 's College was established . &lt;end&gt;', 'ja': '&lt;start&gt; 1951 年 女子 短期 大学 部 を 設置 &lt;end&gt;'}</td>\n",
              "    </tr>\n",
              "    <tr>\n",
              "      <th>2</th>\n",
              "      <td>{'en': '&lt;start&gt; His second son was born . &lt;end&gt;', 'ja': '&lt;start&gt; 次男 ・ 不二 彦 誕生 。 &lt;end&gt;'}</td>\n",
              "    </tr>\n",
              "    <tr>\n",
              "      <th>3</th>\n",
              "      <td>{'en': '&lt;start&gt; The kamekan burial system quickly declined in the end period and was replaced by hole-shaped grave with stone lid and hakoshiki-sekkanbo ( box-shaped stone coffin grave ) . &lt;end&gt;', 'ja': '&lt;start&gt; 甕棺 墓制 は 後期 に は 急速 に 衰退 し て 石蓋 土壙 墓 ・ 箱 式 石棺 墓 など に 取 っ て 代わ ら れ た 。 &lt;end&gt;'}</td>\n",
              "    </tr>\n",
              "    <tr>\n",
              "      <th>4</th>\n",
              "      <td>{'en': '&lt;start&gt; The size of ihai is measured in the shakkan-ho ( the system of measuring length in shaku and weight in kan ) . &lt;end&gt;', 'ja': '&lt;start&gt; 位牌 の サイズ は 尺貫 法 で 表 さ れ る 。 &lt;end&gt;'}</td>\n",
              "    </tr>\n",
              "  </tbody>\n",
              "</table>"
            ]
          },
          "metadata": {}
        }
      ]
    },
    {
      "cell_type": "code",
      "source": [
        "from datasets import load_metric\n",
        "\n",
        "metric = load_metric(\"sacrebleu\")"
      ],
      "metadata": {
        "id": "OHGWI9zJd_Gc"
      },
      "execution_count": null,
      "outputs": []
    },
    {
      "cell_type": "markdown",
      "source": [
        "## Preprocessing the data"
      ],
      "metadata": {
        "id": "PMs17JNfew8j"
      }
    },
    {
      "cell_type": "code",
      "source": [
        "model_checkpoint = \"Helsinki-NLP/opus-mt-ja-en\""
      ],
      "metadata": {
        "id": "Tfc7McQmdOSa"
      },
      "execution_count": 7,
      "outputs": []
    },
    {
      "cell_type": "code",
      "source": [
        "from transformers import AutoTokenizer\n",
        "import sentencepiece as spm\n",
        "\n",
        "tokenizer = AutoTokenizer.from_pretrained(model_checkpoint)"
      ],
      "metadata": {
        "id": "Fn33JNjtFEbZ"
      },
      "execution_count": null,
      "outputs": []
    },
    {
      "cell_type": "code",
      "source": [
        "if \"mbart\" in model_checkpoint:\n",
        "    tokenizer.src_lang = \"ja_XX\"\n",
        "    tokenizer.tgt_lang = \"en_XX\""
      ],
      "metadata": {
        "id": "y8pQsqgqd16O"
      },
      "execution_count": 13,
      "outputs": []
    },
    {
      "cell_type": "code",
      "source": [
        "max_input_length = 128\n",
        "max_target_length = 128\n",
        "source_lang = \"ja\"\n",
        "target_lang = \"en\"\n",
        "\n",
        "def preprocess_function(examples):\n",
        "    inputs = [prefix + ex[source_lang] for ex in examples[\"translation\"]]\n",
        "    targets = [ex[target_lang] for ex in examples[\"translation\"]]\n",
        "    model_inputs = tokenizer(inputs, max_length=max_input_length, truncation=True)\n",
        "\n",
        "    # Setup the tokenizer for targets\n",
        "    with tokenizer.as_target_tokenizer():\n",
        "        labels = tokenizer(targets, max_length=max_target_length, truncation=True)\n",
        "\n",
        "    model_inputs[\"labels\"] = labels[\"input_ids\"]\n",
        "    return model_inputs"
      ],
      "metadata": {
        "id": "dcLb5jaeglaz"
      },
      "execution_count": 15,
      "outputs": []
    },
    {
      "cell_type": "code",
      "source": [
        "tokenized_datasets = raw_datasets.map(preprocess_function, batched=True)"
      ],
      "metadata": {
        "id": "CvqXKEJHh0Jf"
      },
      "execution_count": null,
      "outputs": []
    },
    {
      "cell_type": "markdown",
      "source": [
        "## Fine-tuning the model"
      ],
      "metadata": {
        "id": "_TfrxYcCizE6"
      }
    },
    {
      "cell_type": "code",
      "source": [
        "from transformers import AutoModelForSeq2SeqLM, DataCollatorForSeq2Seq, Seq2SeqTrainingArguments, Seq2SeqTrainer\n",
        "\n",
        "model = AutoModelForSeq2SeqLM.from_pretrained(model_checkpoint)"
      ],
      "metadata": {
        "id": "Vsx6MGg3iyjp"
      },
      "execution_count": null,
      "outputs": []
    },
    {
      "cell_type": "code",
      "source": [
        "batch_size = 16\n",
        "model_name = model_checkpoint.split(\"/\")[-1]\n",
        "args = Seq2SeqTrainingArguments(\n",
        "    f\"{model_name}-finetuned-{source_lang}-to-{target_lang}-epoch2\",\n",
        "    evaluation_strategy = \"epoch\",\n",
        "    save_strategy = \"epoch\",\n",
        "    learning_rate=2e-5,\n",
        "    per_device_train_batch_size=batch_size,\n",
        "    per_device_eval_batch_size=batch_size,\n",
        "    weight_decay=0.01,\n",
        "    num_train_epochs=1,\n",
        "    predict_with_generate=True,\n",
        "    fp16=True,\n",
        ")"
      ],
      "metadata": {
        "id": "LNjQA8Oxi8i2"
      },
      "execution_count": null,
      "outputs": []
    },
    {
      "cell_type": "code",
      "source": [
        "data_collator = DataCollatorForSeq2Seq(tokenizer, model=model)"
      ],
      "metadata": {
        "id": "r2MfoIs7k2aY"
      },
      "execution_count": null,
      "outputs": []
    },
    {
      "cell_type": "code",
      "source": [
        "import numpy as np\n",
        "\n",
        "def postprocess_text(preds, labels):\n",
        "    preds = [pred.strip() for pred in preds]\n",
        "    labels = [[label.strip()] for label in labels]\n",
        "\n",
        "    return preds, labels\n",
        "\n",
        "def compute_metrics(eval_preds):\n",
        "    preds, labels = eval_preds\n",
        "    if isinstance(preds, tuple):\n",
        "        preds = preds[0]\n",
        "    decoded_preds = tokenizer.batch_decode(preds, skip_special_tokens=True)\n",
        "\n",
        "    # Replace -100 in the labels as we can't decode them.\n",
        "    labels = np.where(labels != -100, labels, tokenizer.pad_token_id)\n",
        "    decoded_labels = tokenizer.batch_decode(labels, skip_special_tokens=True)\n",
        "\n",
        "    # Some simple post-processing\n",
        "    decoded_preds, decoded_labels = postprocess_text(decoded_preds, decoded_labels)\n",
        "\n",
        "    result = metric.compute(predictions=decoded_preds, references=decoded_labels)\n",
        "    result = {\"bleu\": result[\"score\"]}\n",
        "\n",
        "    prediction_lens = [np.count_nonzero(pred != tokenizer.pad_token_id) for pred in preds]\n",
        "    result[\"gen_len\"] = np.mean(prediction_lens)\n",
        "    result = {k: round(v, 4) for k, v in result.items()}\n",
        "    return result"
      ],
      "metadata": {
        "id": "tGejtcfvlLNI"
      },
      "execution_count": null,
      "outputs": []
    },
    {
      "cell_type": "code",
      "source": [
        "trainer = Seq2SeqTrainer(\n",
        "    model,\n",
        "    args,\n",
        "    train_dataset=tokenized_datasets[\"train\"],\n",
        "    eval_dataset=tokenized_datasets[\"validation\"],\n",
        "    data_collator=data_collator,\n",
        "    tokenizer=tokenizer,\n",
        "    compute_metrics=compute_metrics\n",
        ")"
      ],
      "metadata": {
        "colab": {
          "base_uri": "https://localhost:8080/"
        },
        "id": "8Q3NLRoRlbNo",
        "outputId": "1c5c17b4-bc8e-47f5-d0fa-f8ae737515bf"
      },
      "execution_count": null,
      "outputs": [
        {
          "output_type": "stream",
          "name": "stderr",
          "text": [
            "Using cuda_amp half precision backend\n"
          ]
        }
      ]
    },
    {
      "cell_type": "code",
      "source": [
        "trainer.train()"
      ],
      "metadata": {
        "id": "EeCf4Cqrl4XA"
      },
      "execution_count": null,
      "outputs": []
    },
    {
      "cell_type": "markdown",
      "source": [
        "## Test fine_tuned model"
      ],
      "metadata": {
        "id": "QtKnOhZu5xBA"
      }
    },
    {
      "cell_type": "code",
      "source": [
        "saved_model = model.from_pretrained(\"./opus-mt-ja-en-finetuned-ja-to-en/checkpoint-20500\")"
      ],
      "metadata": {
        "id": "w5XvC_3j2I5d"
      },
      "execution_count": 10,
      "outputs": []
    },
    {
      "cell_type": "code",
      "source": [
        "from transformers import pipeline\n",
        "\n",
        "translate = pipeline('translation', model=saved_model, tokenizer=tokenizer)"
      ],
      "metadata": {
        "id": "8FZqU_v82t5L"
      },
      "execution_count": 18,
      "outputs": []
    },
    {
      "cell_type": "code",
      "source": [
        "for i in range(3):\n",
        "    ja_text = raw_datasets[\"validation\"][i]['translation']['ja']\n",
        "    en_text = raw_datasets[\"validation\"][i]['translation']['en']\n",
        "    translated = translate(ja_text)\n",
        "    print(' ')\n",
        "    print(f'ja_text:{ja_text}')\n",
        "    print(f'en_text:{en_text}')\n",
        "    print(translated[0])\n",
        "\n"
      ],
      "metadata": {
        "colab": {
          "base_uri": "https://localhost:8080/"
        },
        "id": "c0S3FCQJ3gJb",
        "outputId": "0fa3ae5c-11eb-4695-d531-9f1adee6fcf3"
      },
      "execution_count": 19,
      "outputs": [
        {
          "output_type": "stream",
          "name": "stdout",
          "text": [
            " \n",
            "ja_text:<start> 浄土 真宗 （ じょうど しんしゅう 、 Shin - Buddhism , Pure Land Buddhism ） は 、 日本 の 仏教 の 宗派 の ひと つ で 、 鎌倉 時代 初期 、 法然 の 弟子 ・ 親鸞 が 、 法然 の 教え （ 浄土 宗 ） を 継承 発展 さ せ た 教団 で あ る 。 <end>\n",
            "en_text:<start> Jodo Shinshu ( Shin-Buddhism / True Pure Land Sect ) is one of the sects of Japanese Buddhism , and a religious community that Shinran , an apprentice of Honen , succeeded and which developed Honen 's doctrine ( Jodo Shu / Pure Land Buddhism ) in the early Kamakura period . <end>\n",
            "{'translation_text': '<start> Jodo Shinshu is one of the Buddhist sects in Japan , and a disciple of Honen in the early Kamakura period , Shinran developed the teachings of Honen ( Jodo sect ) . <end>'}\n",
            " \n",
            "ja_text:<start> 宗派 名 の 成り立ち の 歴史 的 経緯 から 、 現在 、 同宗 に 属 する 宗派 の 多く が 宗旨 名 と し て は 真宗 を 名乗 る 。 <end>\n",
            "en_text:<start> Due to the historical background of the origin of the sect name , most sects belonging to this religion call themselves Shinshu as a sect name . <end>\n",
            "{'translation_text': '<start> Due to the historical background of the origin of the sect name , many of the sects belonging to the sect now call themselves Shinshu . <end>'}\n",
            " \n",
            "ja_text:<start> 過去 に は 一向 宗 、 門徒 宗 と も 通称 さ れ た 。 <end>\n",
            "en_text:<start> It used to also be called Ikko Shu and Monto Shu . <end>\n",
            "{'translation_text': '<start> In the past , it was also commonly called Ikko-shu sect or Monshu sect . <end>'}\n"
          ]
        }
      ]
    }
  ]
}